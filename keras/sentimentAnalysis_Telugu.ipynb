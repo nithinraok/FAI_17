{
 "cells": [
  {
   "cell_type": "code",
   "execution_count": 1,
   "metadata": {},
   "outputs": [
    {
     "name": "stderr",
     "output_type": "stream",
     "text": [
      "/Library/Frameworks/Python.framework/Versions/3.6/lib/python3.6/site-packages/h5py/__init__.py:36: FutureWarning: Conversion of the second argument of issubdtype from `float` to `np.floating` is deprecated. In future, it will be treated as `np.float64 == np.dtype(float).type`.\n",
      "  from ._conv import register_converters as _register_converters\n",
      "Using TensorFlow backend.\n"
     ]
    }
   ],
   "source": [
    "import keras\n",
    "from keras.models import Sequential\n",
    "from keras.layers import Conv1D,Dense,Embedding,Flatten,Dropout,MaxPooling1D\n",
    "import nltk\n",
    "from keras.preprocessing import sequence"
   ]
  },
  {
   "cell_type": "code",
   "execution_count": 2,
   "metadata": {},
   "outputs": [],
   "source": [
    "import numpy as np"
   ]
  },
  {
   "cell_type": "markdown",
   "metadata": {},
   "source": [
    "Used sentiraama dataset available at https://ltrc.iiit.ac.in/showfile.php?filename=downloads/sentiraama/ "
   ]
  },
  {
   "cell_type": "code",
   "execution_count": 3,
   "metadata": {},
   "outputs": [],
   "source": [
    "path = '../../data/sentiraama/Song_Lyrics/'"
   ]
  },
  {
   "cell_type": "code",
   "execution_count": 4,
   "metadata": {},
   "outputs": [],
   "source": [
    "song_list=!find $path -type f -name *.txt;"
   ]
  },
  {
   "cell_type": "code",
   "execution_count": 38,
   "metadata": {},
   "outputs": [
    {
     "data": {
      "text/plain": [
       "(['../../data/sentiraama/Song_Lyrics//positive/song116.txt',\n",
       "  '../../data/sentiraama/Song_Lyrics//positive/song102.txt',\n",
       "  '../../data/sentiraama/Song_Lyrics//positive/song49.txt',\n",
       "  '../../data/sentiraama/Song_Lyrics//positive/song61.txt',\n",
       "  '../../data/sentiraama/Song_Lyrics//positive/song248.txt'],\n",
       " ['../../data/sentiraama/Song_Lyrics//negative/song319.txt',\n",
       "  '../../data/sentiraama/Song_Lyrics//negative/song325.txt',\n",
       "  '../../data/sentiraama/Song_Lyrics//negative/song93.txt',\n",
       "  '../../data/sentiraama/Song_Lyrics//negative/song331.txt',\n",
       "  '../../data/sentiraama/Song_Lyrics//negative/song44.txt'])"
      ]
     },
     "execution_count": 38,
     "metadata": {},
     "output_type": "execute_result"
    }
   ],
   "source": [
    "song_list[:5],song_list[-5:]"
   ]
  },
  {
   "cell_type": "code",
   "execution_count": 7,
   "metadata": {},
   "outputs": [],
   "source": [
    "songs=[]\n",
    "sentences=[];\n",
    "label=[];"
   ]
  },
  {
   "cell_type": "markdown",
   "metadata": {},
   "source": [
    "Tokenizing words using nltk. Can also be done using native split() func"
   ]
  },
  {
   "cell_type": "code",
   "execution_count": 8,
   "metadata": {},
   "outputs": [],
   "source": [
    "for song in song_list:\n",
    "    aa = ' '.join(open(song).readlines());\n",
    "    songs=np.append(songs,nltk.word_tokenize(aa))\n",
    "    sentences.append(nltk.word_tokenize(aa))\n",
    "    label.append(0 if song.split('/')[-2] == 'negative' else 1)\n",
    "#     songs.append(np.asarray(nltk.word_tokenize(aa)));"
   ]
  },
  {
   "cell_type": "code",
   "execution_count": 9,
   "metadata": {},
   "outputs": [
    {
     "data": {
      "text/plain": [
       "337"
      ]
     },
     "execution_count": 9,
     "metadata": {},
     "output_type": "execute_result"
    }
   ],
   "source": [
    "len(label)"
   ]
  },
  {
   "cell_type": "code",
   "execution_count": 10,
   "metadata": {},
   "outputs": [
    {
     "data": {
      "text/plain": [
       "158"
      ]
     },
     "execution_count": 10,
     "metadata": {},
     "output_type": "execute_result"
    }
   ],
   "source": [
    "len(sentences[0])"
   ]
  },
  {
   "cell_type": "code",
   "execution_count": 11,
   "metadata": {},
   "outputs": [
    {
     "data": {
      "text/plain": [
       "(50060,)"
      ]
     },
     "execution_count": 11,
     "metadata": {},
     "output_type": "execute_result"
    }
   ],
   "source": [
    "songs.shape"
   ]
  },
  {
   "cell_type": "code",
   "execution_count": null,
   "metadata": {},
   "outputs": [],
   "source": [
    "Let's find the number of unique words'"
   ]
  },
  {
   "cell_type": "code",
   "execution_count": 12,
   "metadata": {
    "scrolled": true
   },
   "outputs": [
    {
     "data": {
      "text/plain": [
       "(16057,)"
      ]
     },
     "execution_count": 12,
     "metadata": {},
     "output_type": "execute_result"
    }
   ],
   "source": [
    "np.unique(songs).shape"
   ]
  },
  {
   "cell_type": "code",
   "execution_count": 13,
   "metadata": {},
   "outputs": [],
   "source": [
    "uniq=np.unique(songs,return_index=True,return_counts=True)"
   ]
  },
  {
   "cell_type": "code",
   "execution_count": 14,
   "metadata": {},
   "outputs": [],
   "source": [
    "aa=np.array(uniq).T"
   ]
  },
  {
   "cell_type": "code",
   "execution_count": 15,
   "metadata": {},
   "outputs": [],
   "source": [
    "temp=sorted(aa,key=lambda x : int(x[2]), reverse=True)"
   ]
  },
  {
   "cell_type": "code",
   "execution_count": 16,
   "metadata": {},
   "outputs": [],
   "source": [
    "uniqueElements=[int(aa[1]) for aa in temp]"
   ]
  },
  {
   "cell_type": "code",
   "execution_count": 17,
   "metadata": {},
   "outputs": [
    {
     "data": {
      "text/plain": [
       "16057"
      ]
     },
     "execution_count": 17,
     "metadata": {},
     "output_type": "execute_result"
    }
   ],
   "source": [
    "len(uniqueElements)"
   ]
  },
  {
   "cell_type": "code",
   "execution_count": 18,
   "metadata": {},
   "outputs": [],
   "source": [
    "vocab=songs[uniqueElements]"
   ]
  },
  {
   "cell_type": "code",
   "execution_count": 19,
   "metadata": {},
   "outputs": [
    {
     "data": {
      "text/plain": [
       "array(['నీ', 'నా', 'ఓ', ..., 'హ…', 'ైవె', '…'], dtype='<U32')"
      ]
     },
     "execution_count": 19,
     "metadata": {},
     "output_type": "execute_result"
    }
   ],
   "source": [
    "vocab"
   ]
  },
  {
   "cell_type": "code",
   "execution_count": 20,
   "metadata": {},
   "outputs": [
    {
     "data": {
      "text/plain": [
       "16057"
      ]
     },
     "execution_count": 20,
     "metadata": {},
     "output_type": "execute_result"
    }
   ],
   "source": [
    "len(vocab)"
   ]
  },
  {
   "cell_type": "code",
   "execution_count": 21,
   "metadata": {},
   "outputs": [],
   "source": [
    "vocab2idx={o:i for i,o in enumerate(vocab)}"
   ]
  },
  {
   "cell_type": "code",
   "execution_count": 39,
   "metadata": {},
   "outputs": [],
   "source": [
    "#vocab2idx"
   ]
  },
  {
   "cell_type": "code",
   "execution_count": 23,
   "metadata": {},
   "outputs": [],
   "source": [
    "idx2vocab={i:o for i,o in enumerate(vocab)}"
   ]
  },
  {
   "cell_type": "code",
   "execution_count": 24,
   "metadata": {},
   "outputs": [],
   "source": [
    "combined = list(zip(sentences, label))\n",
    "np.random.shuffle(combined)\n",
    "\n",
    "sentences[:], label[:] = zip(*combined)"
   ]
  },
  {
   "cell_type": "code",
   "execution_count": 25,
   "metadata": {},
   "outputs": [],
   "source": [
    "vocab_size=8000;"
   ]
  },
  {
   "cell_type": "code",
   "execution_count": 26,
   "metadata": {},
   "outputs": [],
   "source": [
    "lens=list(map(lambda x:len(x),sentences))"
   ]
  },
  {
   "cell_type": "code",
   "execution_count": 27,
   "metadata": {},
   "outputs": [
    {
     "data": {
      "text/plain": [
       "(656, 23)"
      ]
     },
     "execution_count": 27,
     "metadata": {},
     "output_type": "execute_result"
    }
   ],
   "source": [
    "max(lens),np.min(lens)"
   ]
  },
  {
   "cell_type": "code",
   "execution_count": 28,
   "metadata": {},
   "outputs": [
    {
     "data": {
      "text/plain": [
       "286"
      ]
     },
     "execution_count": 28,
     "metadata": {},
     "output_type": "execute_result"
    }
   ],
   "source": [
    "np.argmin(lens)"
   ]
  },
  {
   "cell_type": "code",
   "execution_count": 29,
   "metadata": {},
   "outputs": [
    {
     "data": {
      "text/plain": [
       "(['ఎవ్వరికి',\n",
       "  'ఎవ్వరిని',\n",
       "  'జంటగ',\n",
       "  'అనుకుంటాడో',\n",
       "  'ఆఖరికి',\n",
       "  'వాల్లనే',\n",
       "  'ఓ',\n",
       "  'చోట',\n",
       "  'కలిపేస్తాడు',\n",
       "  'మనసా',\n",
       "  'మల్లి',\n",
       "  'మల్లి',\n",
       "  'చూసా',\n",
       "  'గిల్లి',\n",
       "  'గిల్లి',\n",
       "  'చూసా',\n",
       "  'జరిగింది',\n",
       "  'నమ్మేసా',\n",
       "  'జతగ',\n",
       "  'నాతో',\n",
       "  'నిన్నే',\n",
       "  'చూసా',\n",
       "  'నీతో',\n",
       "  'నన్నే',\n",
       "  'చూసా',\n",
       "  'నను',\n",
       "  'నీకు',\n",
       "  'వదిలేసా',\n",
       "  'పై',\n",
       "  'లోకంలో',\n",
       "  'వాడు',\n",
       "  'యెపుడో',\n",
       "  'ముడి',\n",
       "  'వేసాడు',\n",
       "  'విడిపోదే',\n",
       "  'విడిపోదె',\n",
       "  'తను',\n",
       "  'పాల',\n",
       "  'వెల్లంట',\n",
       "  'నువు',\n",
       "  'వాన',\n",
       "  'జల్లంట',\n",
       "  'మీలోన',\n",
       "  'ఈ',\n",
       "  'ప్రేమ',\n",
       "  'తీరదమ్',\n",
       "  'తీరదమ్',\n",
       "  'తను',\n",
       "  'కంటి',\n",
       "  'పాపంట',\n",
       "  'నువు',\n",
       "  'కంటి',\n",
       "  'రెప్పంట',\n",
       "  'విడదీయలేమంట',\n",
       "  'ఎవరం',\n",
       "  'ఎవరం',\n",
       "  'మనసా',\n",
       "  'మల్లి',\n",
       "  'మల్లి',\n",
       "  'చూసా',\n",
       "  'గిల్లి',\n",
       "  'గిల్లి',\n",
       "  'చూసా',\n",
       "  'నూరేల్ల',\n",
       "  'మన',\n",
       "  'ఆశా',\n",
       "  'జతగ',\n",
       "  'నాతో',\n",
       "  'నిన్నే',\n",
       "  'చూసా',\n",
       "  'నీతో',\n",
       "  'నన్నే',\n",
       "  'చూసా',\n",
       "  'నీ',\n",
       "  'వెంట',\n",
       "  'అడుగేసా',\n",
       "  'తీయనైన',\n",
       "  'చీకటిని',\n",
       "  'తలుచుకునే',\n",
       "  'వేకువలో',\n",
       "  'హాయి',\n",
       "  'మల్లె',\n",
       "  'తీగలతో',\n",
       "  'వేచి',\n",
       "  'వున్న',\n",
       "  'వాకిలులూ',\n",
       "  'నింగి',\n",
       "  'నేల',\n",
       "  'గాలి',\n",
       "  'నీరు',\n",
       "  'నిప్పు',\n",
       "  'అన్ని',\n",
       "  'అదిగో',\n",
       "  'స్వాగతమన్నయి',\n",
       "  'తను',\n",
       "  'పాల',\n",
       "  'వెల్లంట',\n",
       "  'నువు',\n",
       "  'వాన',\n",
       "  'జల్లంట',\n",
       "  'మీలోన',\n",
       "  'ఈ',\n",
       "  'ప్రేమ',\n",
       "  'తీరదమ్',\n",
       "  'తీరదమ్',\n",
       "  'తను',\n",
       "  'కంటి',\n",
       "  'పాపంట',\n",
       "  'నువు',\n",
       "  'కంటి',\n",
       "  'రెప్పంట',\n",
       "  'విడదీయలేమంట',\n",
       "  'ఎవరం',\n",
       "  'ఎవరం',\n",
       "  'మనసా',\n",
       "  'మల్లి',\n",
       "  'మల్లి',\n",
       "  'చూసా',\n",
       "  'గిల్లి',\n",
       "  'గిల్లి',\n",
       "  'చూసా',\n",
       "  'నూరేల్ల',\n",
       "  'మన',\n",
       "  'ఆశా',\n",
       "  'జతగ',\n",
       "  'నాతో',\n",
       "  'నిన్నే',\n",
       "  'చూసా',\n",
       "  'నీతో',\n",
       "  'నన్నే',\n",
       "  'చూసా',\n",
       "  'నీ',\n",
       "  'వెంట',\n",
       "  'అడుగేసా',\n",
       "  'పై',\n",
       "  'లోకంలో',\n",
       "  'వాడు',\n",
       "  'యెపుడో',\n",
       "  'ముడి',\n",
       "  'వేసాడు',\n",
       "  'విడిపోదే',\n",
       "  'విడిపోదె',\n",
       "  'తను',\n",
       "  'పాల',\n",
       "  'వెల్లంట',\n",
       "  'నువు',\n",
       "  'వాన',\n",
       "  'జల్లంట',\n",
       "  'మీలోన',\n",
       "  'ఈ',\n",
       "  'ప్రేమ',\n",
       "  'తీరదమ్',\n",
       "  'తీరదమ్',\n",
       "  'తను',\n",
       "  'కంటి',\n",
       "  'పాపంట',\n",
       "  'నువు',\n",
       "  'కంటి',\n",
       "  'రెప్పంట',\n",
       "  'విడదీయలేమంట',\n",
       "  'ఎవరం',\n",
       "  'ఎవరం',\n",
       "  'ఓ',\n",
       "  'ఓ',\n",
       "  'ఓఓ',\n",
       "  'ఓ',\n",
       "  'ఓ',\n",
       "  'ఓఓ',\n",
       "  'ఓ',\n",
       "  'ఓ',\n",
       "  'ఓఓ',\n",
       "  'ప్రేమ',\n",
       "  'జ్వరం',\n",
       "  'ఓ',\n",
       "  'ఓ',\n",
       "  'ఓఓ',\n",
       "  'విడుచు',\n",
       "  'క్షణం',\n",
       "  'ఓ',\n",
       "  'ఓ',\n",
       "  'ఓఓ',\n",
       "  'పెల్లి',\n",
       "  'అనుకుంటె',\n",
       "  'ఓ',\n",
       "  'ఓ',\n",
       "  'ఓఓ',\n",
       "  'కలియుగమే',\n",
       "  'విడిచేది',\n",
       "  'ఓ',\n",
       "  'ఓ',\n",
       "  'ఓఓ',\n",
       "  'మరణమ్ము',\n",
       "  'తోనే'],\n",
       " 1)"
      ]
     },
     "execution_count": 29,
     "metadata": {},
     "output_type": "execute_result"
    }
   ],
   "source": [
    "sentences[np.argmin(lens)],label[np.argmin(lens)]"
   ]
  },
  {
   "cell_type": "code",
   "execution_count": 30,
   "metadata": {},
   "outputs": [],
   "source": [
    "seq_len = 500"
   ]
  },
  {
   "cell_type": "code",
   "execution_count": 31,
   "metadata": {},
   "outputs": [],
   "source": [
    "sentences2idx =[[vocab2idx[i] for i in seq] for seq in sentences]"
   ]
  },
  {
   "cell_type": "code",
   "execution_count": 32,
   "metadata": {},
   "outputs": [],
   "source": [
    "sentences2idx = [[i if i<vocab_size else vocab_size-1 for i in seq] for seq in sentences2idx]"
   ]
  },
  {
   "cell_type": "code",
   "execution_count": 33,
   "metadata": {},
   "outputs": [],
   "source": [
    "trn=sentences2idx[:250]\n",
    "test=sentences2idx[250:]\n",
    "trn_label=label[:250]\n",
    "test_label=label[250:]"
   ]
  },
  {
   "cell_type": "code",
   "execution_count": 34,
   "metadata": {},
   "outputs": [],
   "source": [
    "trn = sequence.pad_sequences(trn,maxlen=seq_len,value=0);\n",
    "test = sequence.pad_sequences(test,maxlen=seq_len,value=0);"
   ]
  },
  {
   "cell_type": "code",
   "execution_count": 35,
   "metadata": {},
   "outputs": [],
   "source": [
    "model = Sequential()\n",
    "model.add(Embedding(vocab_size,32,input_length=seq_len))\n",
    "model.add(Dropout(0.2))\n",
    "model.add(Flatten())\n",
    "model.add(Dense(100,activation='relu'))\n",
    "model.add(Dropout(0.7))\n",
    "model.add(Dense(1,activation='sigmoid'))\n",
    "\n",
    "model.compile(loss='binary_crossentropy',optimizer='Adam',metrics=['accuracy'])"
   ]
  },
  {
   "cell_type": "code",
   "execution_count": 36,
   "metadata": {},
   "outputs": [
    {
     "name": "stdout",
     "output_type": "stream",
     "text": [
      "_________________________________________________________________\n",
      "Layer (type)                 Output Shape              Param #   \n",
      "=================================================================\n",
      "embedding_1 (Embedding)      (None, 500, 32)           256000    \n",
      "_________________________________________________________________\n",
      "dropout_1 (Dropout)          (None, 500, 32)           0         \n",
      "_________________________________________________________________\n",
      "flatten_1 (Flatten)          (None, 16000)             0         \n",
      "_________________________________________________________________\n",
      "dense_1 (Dense)              (None, 100)               1600100   \n",
      "_________________________________________________________________\n",
      "dropout_2 (Dropout)          (None, 100)               0         \n",
      "_________________________________________________________________\n",
      "dense_2 (Dense)              (None, 1)                 101       \n",
      "=================================================================\n",
      "Total params: 1,856,201\n",
      "Trainable params: 1,856,201\n",
      "Non-trainable params: 0\n",
      "_________________________________________________________________\n"
     ]
    }
   ],
   "source": [
    "model.summary()"
   ]
  },
  {
   "cell_type": "code",
   "execution_count": 37,
   "metadata": {},
   "outputs": [
    {
     "name": "stdout",
     "output_type": "stream",
     "text": [
      "Train on 250 samples, validate on 87 samples\n",
      "Epoch 1/3\n",
      "250/250 [==============================] - 1s 3ms/step - loss: 0.6753 - acc: 0.5840 - val_loss: 0.5995 - val_acc: 0.6782\n",
      "Epoch 2/3\n",
      "250/250 [==============================] - 0s 1ms/step - loss: 0.6079 - acc: 0.6880 - val_loss: 0.5855 - val_acc: 0.6897\n",
      "Epoch 3/3\n",
      "250/250 [==============================] - 0s 1ms/step - loss: 0.5728 - acc: 0.6840 - val_loss: 0.5752 - val_acc: 0.6782\n"
     ]
    },
    {
     "data": {
      "text/plain": [
       "<keras.callbacks.History at 0x139bebdd8>"
      ]
     },
     "execution_count": 37,
     "metadata": {},
     "output_type": "execute_result"
    }
   ],
   "source": [
    "model.fit(trn,trn_label,epochs=3,batch_size=32,validation_data=(test,test_label))"
   ]
  },
  {
   "cell_type": "code",
   "execution_count": null,
   "metadata": {},
   "outputs": [],
   "source": []
  }
 ],
 "metadata": {
  "kernelspec": {
   "display_name": "Python 3",
   "language": "python",
   "name": "python3"
  },
  "language_info": {
   "codemirror_mode": {
    "name": "ipython",
    "version": 3
   },
   "file_extension": ".py",
   "mimetype": "text/x-python",
   "name": "python",
   "nbconvert_exporter": "python",
   "pygments_lexer": "ipython3",
   "version": "3.6.3"
  }
 },
 "nbformat": 4,
 "nbformat_minor": 2
}
