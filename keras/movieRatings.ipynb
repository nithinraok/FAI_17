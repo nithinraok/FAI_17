{
 "cells": [
  {
   "cell_type": "code",
   "execution_count": 1,
   "metadata": {},
   "outputs": [
    {
     "name": "stderr",
     "output_type": "stream",
     "text": [
      "/Library/Frameworks/Python.framework/Versions/3.6/lib/python3.6/site-packages/h5py/__init__.py:36: FutureWarning: Conversion of the second argument of issubdtype from `float` to `np.floating` is deprecated. In future, it will be treated as `np.float64 == np.dtype(float).type`.\n",
      "  from ._conv import register_converters as _register_converters\n",
      "Using TensorFlow backend.\n"
     ]
    }
   ],
   "source": [
    "%matplotlib inline\n",
    "\n",
    "import numpy as np\n",
    "import pandas as pd\n",
    "import os\n",
    "from matplotlib import pyplot as plt\n",
    "import keras\n",
    "from keras.models import Sequential\n",
    "from keras.layers import Embedding,Input,Dense,Conv2D,Dropout,BatchNormalization,Dropout,Flatten\n",
    "from keras.utils import to_categorical\n",
    "from keras.models import Model\n",
    "from keras.optimizers import Adam\n"
   ]
  },
  {
   "cell_type": "code",
   "execution_count": 2,
   "metadata": {},
   "outputs": [],
   "source": [
    "path = '../../data/ml-latest-small/'\n",
    "batch_size=64"
   ]
  },
  {
   "cell_type": "code",
   "execution_count": 3,
   "metadata": {},
   "outputs": [
    {
     "data": {
      "text/html": [
       "<div>\n",
       "<style scoped>\n",
       "    .dataframe tbody tr th:only-of-type {\n",
       "        vertical-align: middle;\n",
       "    }\n",
       "\n",
       "    .dataframe tbody tr th {\n",
       "        vertical-align: top;\n",
       "    }\n",
       "\n",
       "    .dataframe thead th {\n",
       "        text-align: right;\n",
       "    }\n",
       "</style>\n",
       "<table border=\"1\" class=\"dataframe\">\n",
       "  <thead>\n",
       "    <tr style=\"text-align: right;\">\n",
       "      <th></th>\n",
       "      <th>userId</th>\n",
       "      <th>movieId</th>\n",
       "      <th>rating</th>\n",
       "      <th>timestamp</th>\n",
       "    </tr>\n",
       "  </thead>\n",
       "  <tbody>\n",
       "    <tr>\n",
       "      <th>0</th>\n",
       "      <td>1</td>\n",
       "      <td>31</td>\n",
       "      <td>2.5</td>\n",
       "      <td>1260759144</td>\n",
       "    </tr>\n",
       "    <tr>\n",
       "      <th>1</th>\n",
       "      <td>1</td>\n",
       "      <td>1029</td>\n",
       "      <td>3.0</td>\n",
       "      <td>1260759179</td>\n",
       "    </tr>\n",
       "    <tr>\n",
       "      <th>2</th>\n",
       "      <td>1</td>\n",
       "      <td>1061</td>\n",
       "      <td>3.0</td>\n",
       "      <td>1260759182</td>\n",
       "    </tr>\n",
       "    <tr>\n",
       "      <th>3</th>\n",
       "      <td>1</td>\n",
       "      <td>1129</td>\n",
       "      <td>2.0</td>\n",
       "      <td>1260759185</td>\n",
       "    </tr>\n",
       "    <tr>\n",
       "      <th>4</th>\n",
       "      <td>1</td>\n",
       "      <td>1172</td>\n",
       "      <td>4.0</td>\n",
       "      <td>1260759205</td>\n",
       "    </tr>\n",
       "  </tbody>\n",
       "</table>\n",
       "</div>"
      ],
      "text/plain": [
       "   userId  movieId  rating   timestamp\n",
       "0       1       31     2.5  1260759144\n",
       "1       1     1029     3.0  1260759179\n",
       "2       1     1061     3.0  1260759182\n",
       "3       1     1129     2.0  1260759185\n",
       "4       1     1172     4.0  1260759205"
      ]
     },
     "execution_count": 3,
     "metadata": {},
     "output_type": "execute_result"
    }
   ],
   "source": [
    "ratings=pd.read_csv(path+'ratings.csv')\n",
    "ratings.head()"
   ]
  },
  {
   "cell_type": "code",
   "execution_count": 4,
   "metadata": {},
   "outputs": [
    {
     "data": {
      "text/plain": [
       "100004"
      ]
     },
     "execution_count": 4,
     "metadata": {},
     "output_type": "execute_result"
    }
   ],
   "source": [
    "len(ratings)"
   ]
  },
  {
   "cell_type": "code",
   "execution_count": 5,
   "metadata": {},
   "outputs": [
    {
     "data": {
      "text/plain": [
       "(671, 9066)"
      ]
     },
     "execution_count": 5,
     "metadata": {},
     "output_type": "execute_result"
    }
   ],
   "source": [
    "len(ratings.userId.unique()),len(ratings.movieId.unique())"
   ]
  },
  {
   "cell_type": "code",
   "execution_count": 6,
   "metadata": {},
   "outputs": [],
   "source": [
    "users=ratings.userId.unique();\n",
    "movies=ratings.movieId.unique();\n",
    "n_users=len(users);\n",
    "n_movies=len(movies)"
   ]
  },
  {
   "cell_type": "code",
   "execution_count": 7,
   "metadata": {},
   "outputs": [
    {
     "data": {
      "image/png": "[encoded data removed]",
      "text/plain": [
       "<matplotlib.figure.Figure at 0x130090668>"
      ]
     },
     "metadata": {},
     "output_type": "display_data"
    }
   ],
   "source": [
    "plt.hist(ratings.userId);"
   ]
  },
  {
   "cell_type": "code",
   "execution_count": 8,
   "metadata": {},
   "outputs": [
    {
     "data": {
      "image/png": "[encoded data removed]",
      "text/plain": [
       "<matplotlib.figure.Figure at 0x1300545c0>"
      ]
     },
     "metadata": {},
     "output_type": "display_data"
    }
   ],
   "source": [
    "plt.hist(ratings.movieId);"
   ]
  },
  {
   "cell_type": "code",
   "execution_count": 9,
   "metadata": {},
   "outputs": [
    {
     "data": {
      "image/png": "[encoded data removed]",
      "text/plain": [
       "<matplotlib.figure.Figure at 0x133709898>"
      ]
     },
     "metadata": {},
     "output_type": "display_data"
    }
   ],
   "source": [
    "aa=ratings.groupby('userId').agg('movieId')\n",
    "\n",
    "plt.plot(aa.count());"
   ]
  },
  {
   "cell_type": "code",
   "execution_count": 10,
   "metadata": {},
   "outputs": [],
   "source": [
    "user2idx = {user:i for i,user in enumerate(users)};\n",
    "movie2idx = {movie:i for i,movie in enumerate(movies)};"
   ]
  },
  {
   "cell_type": "markdown",
   "metadata": {},
   "source": [
    "Now we got ids for unique Movie ids and User Ids.\n",
    "Let us replace this value in dataframe using apply method"
   ]
  },
  {
   "cell_type": "code",
   "execution_count": 11,
   "metadata": {
    "scrolled": true
   },
   "outputs": [],
   "source": [
    "ratings.userId=ratings.userId.apply(lambda x : user2idx[x]);\n",
    "ratings.movieId=ratings.movieId.apply(lambda x : movie2idx[x]);"
   ]
  },
  {
   "cell_type": "code",
   "execution_count": 12,
   "metadata": {},
   "outputs": [],
   "source": [
    "n_factors=50; #Latent factors\n",
    "np.random.seed(10)\n",
    "mask = np.random.rand(len(ratings))<0.75\n",
    "trn=ratings[mask]\n",
    "val=ratings[~mask]"
   ]
  },
  {
   "cell_type": "markdown",
   "metadata": {},
   "source": [
    "Creating input such that it takes user id and movie id as input"
   ]
  },
  {
   "cell_type": "code",
   "execution_count": 13,
   "metadata": {},
   "outputs": [],
   "source": [
    "from keras.regularizers import l2\n",
    "from keras.layers import concatenate"
   ]
  },
  {
   "cell_type": "code",
   "execution_count": 14,
   "metadata": {},
   "outputs": [],
   "source": [
    "input_u = Input(shape=(1,),dtype='int64',name = 'user')\n",
    "u=Embedding(n_users,n_factors,input_length=1,embeddings_regularizer=l2(1e-04))(input_u)"
   ]
  },
  {
   "cell_type": "code",
   "execution_count": 15,
   "metadata": {},
   "outputs": [],
   "source": [
    "input_m = Input(shape=(1,),dtype='int64',name = 'movie')\n",
    "m=Embedding(n_movies,n_factors,input_length=1,embeddings_regularizer=l2(1e-04))(input_m)"
   ]
  },
  {
   "cell_type": "code",
   "execution_count": 16,
   "metadata": {},
   "outputs": [
    {
     "data": {
      "text/plain": [
       "<tf.Tensor 'embedding_1/embedding_lookup/Identity:0' shape=(?, 1, 50) dtype=float32>"
      ]
     },
     "execution_count": 16,
     "metadata": {},
     "output_type": "execute_result"
    }
   ],
   "source": [
    "u"
   ]
  },
  {
   "cell_type": "code",
   "execution_count": 17,
   "metadata": {},
   "outputs": [],
   "source": [
    "x=concatenate([u,m])\n",
    "\n",
    "x=Flatten()(x)\n",
    "\n",
    "x=Dropout(0.3)(x)\n",
    "x=Dense(70,activation='relu')(x)\n",
    "x=Dropout(0.75)(x)\n",
    "# x=Dense(10,activation='relu')(x)\n",
    "# x=Dropout(0.2)(x)\n",
    "x=Dense(1)(x)"
   ]
  },
  {
   "cell_type": "code",
   "execution_count": 18,
   "metadata": {},
   "outputs": [],
   "source": [
    "model=Model([input_u,input_m],x)"
   ]
  },
  {
   "cell_type": "code",
   "execution_count": 19,
   "metadata": {
    "scrolled": true
   },
   "outputs": [
    {
     "name": "stdout",
     "output_type": "stream",
     "text": [
      "__________________________________________________________________________________________________\n",
      "Layer (type)                    Output Shape         Param #     Connected to                     \n",
      "==================================================================================================\n",
      "user (InputLayer)               (None, 1)            0                                            \n",
      "__________________________________________________________________________________________________\n",
      "movie (InputLayer)              (None, 1)            0                                            \n",
      "__________________________________________________________________________________________________\n",
      "embedding_1 (Embedding)         (None, 1, 50)        33550       user[0][0]                       \n",
      "__________________________________________________________________________________________________\n",
      "embedding_2 (Embedding)         (None, 1, 50)        453300      movie[0][0]                      \n",
      "__________________________________________________________________________________________________\n",
      "concatenate_1 (Concatenate)     (None, 1, 100)       0           embedding_1[0][0]                \n",
      "                                                                 embedding_2[0][0]                \n",
      "__________________________________________________________________________________________________\n",
      "flatten_1 (Flatten)             (None, 100)          0           concatenate_1[0][0]              \n",
      "__________________________________________________________________________________________________\n",
      "dropout_1 (Dropout)             (None, 100)          0           flatten_1[0][0]                  \n",
      "__________________________________________________________________________________________________\n",
      "dense_1 (Dense)                 (None, 70)           7070        dropout_1[0][0]                  \n",
      "__________________________________________________________________________________________________\n",
      "dropout_2 (Dropout)             (None, 70)           0           dense_1[0][0]                    \n",
      "__________________________________________________________________________________________________\n",
      "dense_2 (Dense)                 (None, 1)            71          dropout_2[0][0]                  \n",
      "==================================================================================================\n",
      "Total params: 493,991\n",
      "Trainable params: 493,991\n",
      "Non-trainable params: 0\n",
      "__________________________________________________________________________________________________\n"
     ]
    }
   ],
   "source": [
    "model.summary()"
   ]
  },
  {
   "cell_type": "code",
   "execution_count": 20,
   "metadata": {},
   "outputs": [],
   "source": [
    "model.compile(optimizer=Adam(lr=0.001),loss='mse')"
   ]
  },
  {
   "cell_type": "code",
   "execution_count": 21,
   "metadata": {
    "scrolled": true
   },
   "outputs": [
    {
     "name": "stdout",
     "output_type": "stream",
     "text": [
      "Train on 75259 samples, validate on 24745 samples\n",
      "Epoch 1/8\n",
      "75259/75259 [==============================] - 16s 207us/step - loss: 2.1997 - val_loss: 0.9282\n",
      "Epoch 2/8\n",
      "75259/75259 [==============================] - 15s 203us/step - loss: 1.2498 - val_loss: 0.8723\n",
      "Epoch 3/8\n",
      "75259/75259 [==============================] - 15s 203us/step - loss: 0.9599 - val_loss: 0.8594\n",
      "Epoch 4/8\n",
      "75259/75259 [==============================] - 15s 203us/step - loss: 0.8617 - val_loss: 0.8530\n",
      "Epoch 5/8\n",
      "75259/75259 [==============================] - 15s 204us/step - loss: 0.8295 - val_loss: 0.8516\n",
      "Epoch 6/8\n",
      "75259/75259 [==============================] - 15s 205us/step - loss: 0.8210 - val_loss: 0.8530\n",
      "Epoch 7/8\n",
      "75259/75259 [==============================] - 15s 203us/step - loss: 0.8170 - val_loss: 0.8536\n",
      "Epoch 8/8\n",
      "75259/75259 [==============================] - 15s 203us/step - loss: 0.8142 - val_loss: 0.8515\n"
     ]
    },
    {
     "data": {
      "text/plain": [
       "<keras.callbacks.History at 0x1300544a8>"
      ]
     },
     "execution_count": 21,
     "metadata": {},
     "output_type": "execute_result"
    }
   ],
   "source": [
    "model.fit([trn.userId,trn.movieId],trn.rating,batch_size=32,epochs=8,validation_data=\n",
    "         ([val.userId,val.movieId],val.rating))"
   ]
  },
  {
   "cell_type": "code",
   "execution_count": 32,
   "metadata": {},
   "outputs": [
    {
     "data": {
      "text/plain": [
       "array([[4.6653132]], dtype=float32)"
      ]
     },
     "execution_count": 32,
     "metadata": {},
     "output_type": "execute_result"
    }
   ],
   "source": [
    "model.predict([np.array([10]),np.array([24])])"
   ]
  },
  {
   "cell_type": "code",
   "execution_count": 33,
   "metadata": {},
   "outputs": [
    {
     "data": {
      "text/html": [
       "<div>\n",
       "<style scoped>\n",
       "    .dataframe tbody tr th:only-of-type {\n",
       "        vertical-align: middle;\n",
       "    }\n",
       "\n",
       "    .dataframe tbody tr th {\n",
       "        vertical-align: top;\n",
       "    }\n",
       "\n",
       "    .dataframe thead th {\n",
       "        text-align: right;\n",
       "    }\n",
       "</style>\n",
       "<table border=\"1\" class=\"dataframe\">\n",
       "  <thead>\n",
       "    <tr style=\"text-align: right;\">\n",
       "      <th></th>\n",
       "      <th>userId</th>\n",
       "      <th>movieId</th>\n",
       "      <th>rating</th>\n",
       "      <th>timestamp</th>\n",
       "    </tr>\n",
       "  </thead>\n",
       "  <tbody>\n",
       "    <tr>\n",
       "      <th>790</th>\n",
       "      <td>10</td>\n",
       "      <td>24</td>\n",
       "      <td>5.0</td>\n",
       "      <td>1391658537</td>\n",
       "    </tr>\n",
       "    <tr>\n",
       "      <th>791</th>\n",
       "      <td>10</td>\n",
       "      <td>547</td>\n",
       "      <td>1.0</td>\n",
       "      <td>1391656827</td>\n",
       "    </tr>\n",
       "    <tr>\n",
       "      <th>792</th>\n",
       "      <td>10</td>\n",
       "      <td>548</td>\n",
       "      <td>4.0</td>\n",
       "      <td>1391657561</td>\n",
       "    </tr>\n",
       "    <tr>\n",
       "      <th>793</th>\n",
       "      <td>10</td>\n",
       "      <td>549</td>\n",
       "      <td>3.0</td>\n",
       "      <td>1391657297</td>\n",
       "    </tr>\n",
       "    <tr>\n",
       "      <th>794</th>\n",
       "      <td>10</td>\n",
       "      <td>49</td>\n",
       "      <td>5.0</td>\n",
       "      <td>1391658423</td>\n",
       "    </tr>\n",
       "    <tr>\n",
       "      <th>795</th>\n",
       "      <td>10</td>\n",
       "      <td>103</td>\n",
       "      <td>4.5</td>\n",
       "      <td>1391658505</td>\n",
       "    </tr>\n",
       "    <tr>\n",
       "      <th>796</th>\n",
       "      <td>10</td>\n",
       "      <td>550</td>\n",
       "      <td>3.5</td>\n",
       "      <td>1391656845</td>\n",
       "    </tr>\n",
       "    <tr>\n",
       "      <th>797</th>\n",
       "      <td>10</td>\n",
       "      <td>551</td>\n",
       "      <td>5.0</td>\n",
       "      <td>1391658556</td>\n",
       "    </tr>\n",
       "    <tr>\n",
       "      <th>798</th>\n",
       "      <td>10</td>\n",
       "      <td>552</td>\n",
       "      <td>4.5</td>\n",
       "      <td>1391658634</td>\n",
       "    </tr>\n",
       "    <tr>\n",
       "      <th>799</th>\n",
       "      <td>10</td>\n",
       "      <td>553</td>\n",
       "      <td>5.0</td>\n",
       "      <td>1391658440</td>\n",
       "    </tr>\n",
       "    <tr>\n",
       "      <th>800</th>\n",
       "      <td>10</td>\n",
       "      <td>446</td>\n",
       "      <td>5.0</td>\n",
       "      <td>1391658667</td>\n",
       "    </tr>\n",
       "    <tr>\n",
       "      <th>801</th>\n",
       "      <td>10</td>\n",
       "      <td>223</td>\n",
       "      <td>3.0</td>\n",
       "      <td>1391657062</td>\n",
       "    </tr>\n",
       "    <tr>\n",
       "      <th>802</th>\n",
       "      <td>10</td>\n",
       "      <td>554</td>\n",
       "      <td>3.5</td>\n",
       "      <td>1391657376</td>\n",
       "    </tr>\n",
       "    <tr>\n",
       "      <th>803</th>\n",
       "      <td>10</td>\n",
       "      <td>555</td>\n",
       "      <td>4.5</td>\n",
       "      <td>1391657543</td>\n",
       "    </tr>\n",
       "    <tr>\n",
       "      <th>804</th>\n",
       "      <td>10</td>\n",
       "      <td>119</td>\n",
       "      <td>3.0</td>\n",
       "      <td>1391658583</td>\n",
       "    </tr>\n",
       "    <tr>\n",
       "      <th>805</th>\n",
       "      <td>10</td>\n",
       "      <td>556</td>\n",
       "      <td>3.0</td>\n",
       "      <td>1391657112</td>\n",
       "    </tr>\n",
       "    <tr>\n",
       "      <th>806</th>\n",
       "      <td>10</td>\n",
       "      <td>127</td>\n",
       "      <td>3.0</td>\n",
       "      <td>1391658601</td>\n",
       "    </tr>\n",
       "    <tr>\n",
       "      <th>807</th>\n",
       "      <td>10</td>\n",
       "      <td>557</td>\n",
       "      <td>5.0</td>\n",
       "      <td>1391657861</td>\n",
       "    </tr>\n",
       "    <tr>\n",
       "      <th>808</th>\n",
       "      <td>10</td>\n",
       "      <td>558</td>\n",
       "      <td>5.0</td>\n",
       "      <td>1391658574</td>\n",
       "    </tr>\n",
       "    <tr>\n",
       "      <th>809</th>\n",
       "      <td>10</td>\n",
       "      <td>559</td>\n",
       "      <td>5.0</td>\n",
       "      <td>1391658450</td>\n",
       "    </tr>\n",
       "    <tr>\n",
       "      <th>810</th>\n",
       "      <td>10</td>\n",
       "      <td>560</td>\n",
       "      <td>4.0</td>\n",
       "      <td>1391657605</td>\n",
       "    </tr>\n",
       "    <tr>\n",
       "      <th>811</th>\n",
       "      <td>10</td>\n",
       "      <td>561</td>\n",
       "      <td>4.5</td>\n",
       "      <td>1391657459</td>\n",
       "    </tr>\n",
       "    <tr>\n",
       "      <th>812</th>\n",
       "      <td>10</td>\n",
       "      <td>562</td>\n",
       "      <td>3.5</td>\n",
       "      <td>1391657720</td>\n",
       "    </tr>\n",
       "    <tr>\n",
       "      <th>813</th>\n",
       "      <td>10</td>\n",
       "      <td>563</td>\n",
       "      <td>4.5</td>\n",
       "      <td>1391658141</td>\n",
       "    </tr>\n",
       "    <tr>\n",
       "      <th>814</th>\n",
       "      <td>10</td>\n",
       "      <td>564</td>\n",
       "      <td>4.0</td>\n",
       "      <td>1391658115</td>\n",
       "    </tr>\n",
       "    <tr>\n",
       "      <th>815</th>\n",
       "      <td>10</td>\n",
       "      <td>565</td>\n",
       "      <td>4.5</td>\n",
       "      <td>1391658399</td>\n",
       "    </tr>\n",
       "    <tr>\n",
       "      <th>816</th>\n",
       "      <td>10</td>\n",
       "      <td>566</td>\n",
       "      <td>3.0</td>\n",
       "      <td>1391658137</td>\n",
       "    </tr>\n",
       "    <tr>\n",
       "      <th>817</th>\n",
       "      <td>10</td>\n",
       "      <td>567</td>\n",
       "      <td>4.0</td>\n",
       "      <td>1391658210</td>\n",
       "    </tr>\n",
       "    <tr>\n",
       "      <th>818</th>\n",
       "      <td>10</td>\n",
       "      <td>568</td>\n",
       "      <td>3.5</td>\n",
       "      <td>1391658218</td>\n",
       "    </tr>\n",
       "    <tr>\n",
       "      <th>819</th>\n",
       "      <td>10</td>\n",
       "      <td>569</td>\n",
       "      <td>4.0</td>\n",
       "      <td>1391658385</td>\n",
       "    </tr>\n",
       "    <tr>\n",
       "      <th>820</th>\n",
       "      <td>10</td>\n",
       "      <td>570</td>\n",
       "      <td>4.5</td>\n",
       "      <td>1391658311</td>\n",
       "    </tr>\n",
       "    <tr>\n",
       "      <th>821</th>\n",
       "      <td>10</td>\n",
       "      <td>571</td>\n",
       "      <td>4.5</td>\n",
       "      <td>1391658125</td>\n",
       "    </tr>\n",
       "    <tr>\n",
       "      <th>822</th>\n",
       "      <td>10</td>\n",
       "      <td>572</td>\n",
       "      <td>4.0</td>\n",
       "      <td>1391658270</td>\n",
       "    </tr>\n",
       "    <tr>\n",
       "      <th>823</th>\n",
       "      <td>10</td>\n",
       "      <td>573</td>\n",
       "      <td>4.0</td>\n",
       "      <td>1391658186</td>\n",
       "    </tr>\n",
       "    <tr>\n",
       "      <th>824</th>\n",
       "      <td>10</td>\n",
       "      <td>574</td>\n",
       "      <td>4.0</td>\n",
       "      <td>1391657924</td>\n",
       "    </tr>\n",
       "    <tr>\n",
       "      <th>825</th>\n",
       "      <td>10</td>\n",
       "      <td>575</td>\n",
       "      <td>4.0</td>\n",
       "      <td>1391657610</td>\n",
       "    </tr>\n",
       "    <tr>\n",
       "      <th>826</th>\n",
       "      <td>10</td>\n",
       "      <td>576</td>\n",
       "      <td>5.0</td>\n",
       "      <td>1391658157</td>\n",
       "    </tr>\n",
       "    <tr>\n",
       "      <th>827</th>\n",
       "      <td>10</td>\n",
       "      <td>577</td>\n",
       "      <td>5.0</td>\n",
       "      <td>1391657798</td>\n",
       "    </tr>\n",
       "  </tbody>\n",
       "</table>\n",
       "</div>"
      ],
      "text/plain": [
       "     userId  movieId  rating   timestamp\n",
       "790      10       24     5.0  1391658537\n",
       "791      10      547     1.0  1391656827\n",
       "792      10      548     4.0  1391657561\n",
       "793      10      549     3.0  1391657297\n",
       "794      10       49     5.0  1391658423\n",
       "795      10      103     4.5  1391658505\n",
       "796      10      550     3.5  1391656845\n",
       "797      10      551     5.0  1391658556\n",
       "798      10      552     4.5  1391658634\n",
       "799      10      553     5.0  1391658440\n",
       "800      10      446     5.0  1391658667\n",
       "801      10      223     3.0  1391657062\n",
       "802      10      554     3.5  1391657376\n",
       "803      10      555     4.5  1391657543\n",
       "804      10      119     3.0  1391658583\n",
       "805      10      556     3.0  1391657112\n",
       "806      10      127     3.0  1391658601\n",
       "807      10      557     5.0  1391657861\n",
       "808      10      558     5.0  1391658574\n",
       "809      10      559     5.0  1391658450\n",
       "810      10      560     4.0  1391657605\n",
       "811      10      561     4.5  1391657459\n",
       "812      10      562     3.5  1391657720\n",
       "813      10      563     4.5  1391658141\n",
       "814      10      564     4.0  1391658115\n",
       "815      10      565     4.5  1391658399\n",
       "816      10      566     3.0  1391658137\n",
       "817      10      567     4.0  1391658210\n",
       "818      10      568     3.5  1391658218\n",
       "819      10      569     4.0  1391658385\n",
       "820      10      570     4.5  1391658311\n",
       "821      10      571     4.5  1391658125\n",
       "822      10      572     4.0  1391658270\n",
       "823      10      573     4.0  1391658186\n",
       "824      10      574     4.0  1391657924\n",
       "825      10      575     4.0  1391657610\n",
       "826      10      576     5.0  1391658157\n",
       "827      10      577     5.0  1391657798"
      ]
     },
     "execution_count": 33,
     "metadata": {},
     "output_type": "execute_result"
    }
   ],
   "source": [
    "ratings[ratings.userId==10]"
   ]
  },
  {
   "cell_type": "code",
   "execution_count": null,
   "metadata": {},
   "outputs": [],
   "source": []
  }
 ],
 "metadata": {
  "kernelspec": {
   "display_name": "Python 3",
   "language": "python",
   "name": "python3"
  },
  "language_info": {
   "codemirror_mode": {
    "name": "ipython",
    "version": 3
   },
   "file_extension": ".py",
   "mimetype": "text/x-python",
   "name": "python",
   "nbconvert_exporter": "python",
   "pygments_lexer": "ipython3",
   "version": "3.6.3"
  }
 },
 "nbformat": 4,
 "nbformat_minor": 2
}
