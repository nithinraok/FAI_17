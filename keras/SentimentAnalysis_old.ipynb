{
 "cells": [
  {
   "cell_type": "code",
   "execution_count": 1,
   "metadata": {},
   "outputs": [
    {
     "name": "stderr",
     "output_type": "stream",
     "text": [
      "/Library/Frameworks/Python.framework/Versions/3.6/lib/python3.6/site-packages/h5py/__init__.py:36: FutureWarning: Conversion of the second argument of issubdtype from `float` to `np.floating` is deprecated. In future, it will be treated as `np.float64 == np.dtype(float).type`.\n",
      "  from ._conv import register_converters as _register_converters\n",
      "Using TensorFlow backend.\n"
     ]
    }
   ],
   "source": [
    "import os\n",
    "import glob\n",
    "import numpy as np\n",
    "import pandas as pd\n",
    "\n",
    "import keras\n",
    "from keras.models import Model\n",
    "from keras.layers import Input,Embedding,Dropout,Conv2D,BatchNormalization,Flatten,Dense\n",
    "from keras.optimizers import Adam\n",
    "from keras.utils import to_categorical\n",
    "import sklearn\n",
    "import re\n",
    "\n",
    "# nltk.download()"
   ]
  },
  {
   "cell_type": "code",
   "execution_count": 2,
   "metadata": {},
   "outputs": [],
   "source": [
    "path='../../data/aclImdb/'"
   ]
  },
  {
   "cell_type": "code",
   "execution_count": 3,
   "metadata": {},
   "outputs": [],
   "source": [
    "train_x=[];\n",
    "train_y=[];\n",
    "test_x=[];\n",
    "test_y=[];"
   ]
  },
  {
   "cell_type": "code",
   "execution_count": 4,
   "metadata": {},
   "outputs": [],
   "source": [
    "for data in ['train']:\n",
    "    for label in ['neg','pos']:\n",
    "        folder = path+data+'/'+label;\n",
    "        files=glob.glob(folder+'/*');\n",
    "        train_x.append([open(file,'r').readlines().lower() for file in files]);\n",
    "        if label == 'neg':\n",
    "            train_y.append([0]*len(files));\n",
    "        else:\n",
    "            train_y.append([1]*len(files));\n",
    "        \n",
    "for data in ['test']:\n",
    "    for label in ['neg','pos']:\n",
    "        folder = path+data+'/'+label;\n",
    "        files=glob.glob(folder+'/*');\n",
    "        test_x=[open(file,'r').readlines().lower() for file in files];\n",
    "        if label == 'neg':\n",
    "            test_y.append([0]*len(files));\n",
    "        else:\n",
    "            test_y.append([1]*len(files));"
   ]
  },
  {
   "cell_type": "code",
   "execution_count": 5,
   "metadata": {},
   "outputs": [],
   "source": [
    "train_x=np.asarray(train_x).reshape(-1,1);\n",
    "train_y=np.asarray(train_y).reshape(-1,1);\n",
    "test_x=np.asarray(test_x).reshape(-1,1);\n",
    "test_y=np.asarray(test_y).reshape(-1,1);"
   ]
  },
  {
   "cell_type": "code",
   "execution_count": 6,
   "metadata": {},
   "outputs": [],
   "source": [
    "vocab=!cat $path'imdb.vocab'"
   ]
  },
  {
   "cell_type": "code",
   "execution_count": 7,
   "metadata": {},
   "outputs": [],
   "source": [
    "vocab2idx={word:i for i,word in enumerate(vocab)}"
   ]
  },
  {
   "cell_type": "code",
   "execution_count": 8,
   "metadata": {},
   "outputs": [
    {
     "data": {
      "text/plain": [
       "25000"
      ]
     },
     "execution_count": 8,
     "metadata": {},
     "output_type": "execute_result"
    }
   ],
   "source": [
    "len(train_x)"
   ]
  },
  {
   "cell_type": "markdown",
   "metadata": {},
   "source": [
    "Not using this as data is so corrupt"
   ]
  },
  {
   "cell_type": "code",
   "execution_count": 9,
   "metadata": {
    "scrolled": true
   },
   "outputs": [],
   "source": [
    "def remove_unnec(line):\n",
    "    return ' '.join(re.split(r\"[^A-Za-z]\", line.strip())).split()"
   ]
  },
  {
   "cell_type": "code",
   "execution_count": 10,
   "metadata": {},
   "outputs": [],
   "source": [
    "# for i in range(len(train_x)):\n",
    "#     trnid_x.append([vocab2idx[word.lower()] for word in remove_unnec(train_x[i][0])])"
   ]
  },
  {
   "cell_type": "code",
   "execution_count": 17,
   "metadata": {},
   "outputs": [
    {
     "data": {
      "text/plain": [
       "16533"
      ]
     },
     "execution_count": 17,
     "metadata": {},
     "output_type": "execute_result"
    }
   ],
   "source": [
    "vocab2idx[\"isnt\"]"
   ]
  },
  {
   "cell_type": "code",
   "execution_count": 14,
   "metadata": {},
   "outputs": [
    {
     "data": {
      "text/plain": [
       "['working',\n",
       " 'with',\n",
       " 'one',\n",
       " 'of',\n",
       " 'the',\n",
       " 'best',\n",
       " 'shakespeare',\n",
       " 'sources,',\n",
       " 'this',\n",
       " 'film',\n",
       " 'manages',\n",
       " 'to',\n",
       " 'be',\n",
       " 'creditable',\n",
       " 'to',\n",
       " \"it's\",\n",
       " 'source,',\n",
       " 'whilst',\n",
       " 'still',\n",
       " 'appealing',\n",
       " 'to',\n",
       " 'a',\n",
       " 'wider',\n",
       " 'audience.<br',\n",
       " '/><br',\n",
       " '/>branagh',\n",
       " 'steals',\n",
       " 'the',\n",
       " 'film',\n",
       " 'from',\n",
       " 'under',\n",
       " \"fishburne's\",\n",
       " 'nose,',\n",
       " 'and',\n",
       " \"there's\",\n",
       " 'a',\n",
       " 'talented',\n",
       " 'cast',\n",
       " 'on',\n",
       " 'good',\n",
       " 'form.']"
      ]
     },
     "execution_count": 14,
     "metadata": {},
     "output_type": "execute_result"
    }
   ],
   "source": [
    "train_x[0][0].lower().split()"
   ]
  },
  {
   "cell_type": "code",
   "execution_count": 18,
   "metadata": {},
   "outputs": [
    {
     "data": {
      "text/plain": [
       "89527"
      ]
     },
     "execution_count": 18,
     "metadata": {},
     "output_type": "execute_result"
    }
   ],
   "source": [
    "len(vocab2idx)"
   ]
  },
  {
   "cell_type": "code",
   "execution_count": null,
   "metadata": {},
   "outputs": [],
   "source": []
  }
 ],
 "metadata": {
  "kernelspec": {
   "display_name": "Python 3",
   "language": "python",
   "name": "python3"
  },
  "language_info": {
   "codemirror_mode": {
    "name": "ipython",
    "version": 3
   },
   "file_extension": ".py",
   "mimetype": "text/x-python",
   "name": "python",
   "nbconvert_exporter": "python",
   "pygments_lexer": "ipython3",
   "version": "3.6.3"
  }
 },
 "nbformat": 4,
 "nbformat_minor": 2
}
