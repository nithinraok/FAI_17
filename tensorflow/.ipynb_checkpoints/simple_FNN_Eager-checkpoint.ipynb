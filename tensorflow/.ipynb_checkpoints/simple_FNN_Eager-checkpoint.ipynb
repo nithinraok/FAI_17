{
 "cells": [
  {
   "cell_type": "markdown",
   "metadata": {},
   "source": [
    "Simple NN to demonstrate Eager Execution in tf to use tf as like PyTorch"
   ]
  },
  {
   "cell_type": "code",
   "execution_count": 1,
   "metadata": {},
   "outputs": [],
   "source": [
    "import os\n",
    "import numpy as np\n",
    "\n",
    "import tensorflow as tf\n",
    "from tensorflow.keras.datasets import mnist"
   ]
  },
  {
   "cell_type": "code",
   "execution_count": 4,
   "metadata": {},
   "outputs": [
    {
     "name": "stdout",
     "output_type": "stream",
     "text": [
      "1.12.0\n"
     ]
    }
   ],
   "source": [
    "print(tf.__version__)\n",
    "tf.enable_eager_execution()\n",
    "tf.random.set_random_seed(0)\n",
    "np.random.seed(0)"
   ]
  },
  {
   "cell_type": "code",
   "execution_count": 5,
   "metadata": {},
   "outputs": [],
   "source": [
    "hidden_dim = 500\n",
    "batch_size = 64\n",
    "epochs = 10\n",
    "num_classes = 10\n",
    "\n",
    "if not os.path.exists(\"weights/\"):\n",
    "    os.makedirs(\"weights/\")"
   ]
  },
  {
   "cell_type": "code",
   "execution_count": 7,
   "metadata": {},
   "outputs": [
    {
     "name": "stdout",
     "output_type": "stream",
     "text": [
      "x_train :  (60000, 784)\n",
      "y_train :  (60000, 10)\n",
      "x_test :  (10000, 784)\n",
      "y_test :  (10000, 10)\n"
     ]
    }
   ],
   "source": [
    "(x_train,y_train),(x_test,y_test)=mnist.load_data()\n",
    "\n",
    "x_train = x_train.astype('float32')/255\n",
    "x_test = x_test.astype('float32')/255\n",
    "\n",
    "x_train = x_train.reshape(-1,28*28)\n",
    "x_test = x_test.reshape(-1,28*28)\n",
    "\n",
    "y_train_ohe = tf.one_hot(y_train,depth=num_classes).numpy()\n",
    "y_test_ohe = tf.one_hot(y_test,depth=num_classes).numpy()\n",
    "\n",
    "print('x_train : ',x_train.shape)\n",
    "print('y_train : ',y_train_ohe.shape)\n",
    "print('x_test : ' ,x_test.shape)\n",
    "print('y_test : ',y_test_ohe.shape)"
   ]
  },
  {
   "cell_type": "code",
   "execution_count": 8,
   "metadata": {},
   "outputs": [],
   "source": [
    "class MLP(tf.keras.Model):\n",
    "    \n",
    "    def __init__(self,hidden_units,num_classes):\n",
    "        super().__init__()\n",
    "        \n",
    "        self.hidden = tf.layers.Dense(hidden_units,activation='relu')\n",
    "        self.classifier = tf.layers.Dense(num_classes)\n",
    "        \n",
    "    def call(self,inputs, training=None, mask = None):\n",
    "        x=self.hidden(inputs)\n",
    "        output=self.classifier(x)\n",
    "        \n",
    "        with tf.device('/cpu:0'):\n",
    "            output = tf.nn.softmax(output)\n",
    "        \n",
    "        return output"
   ]
  },
  {
   "cell_type": "code",
   "execution_count": 11,
   "metadata": {},
   "outputs": [
    {
     "name": "stdout",
     "output_type": "stream",
     "text": [
      "Epoch 1/10\n",
      " - 7s - loss: 0.2355 - acc: 0.9327 - val_loss: 0.1240 - val_acc: 0.9645\n",
      "Epoch 2/10\n",
      " - 6s - loss: 0.0959 - acc: 0.9717 - val_loss: 0.0862 - val_acc: 0.9743\n",
      "Epoch 3/10\n",
      " - 6s - loss: 0.0607 - acc: 0.9811 - val_loss: 0.0786 - val_acc: 0.9773\n",
      "Epoch 4/10\n",
      " - 6s - loss: 0.0422 - acc: 0.9867 - val_loss: 0.0644 - val_acc: 0.9799\n",
      "Epoch 5/10\n",
      " - 6s - loss: 0.0304 - acc: 0.9910 - val_loss: 0.0666 - val_acc: 0.9801\n",
      "Epoch 6/10\n",
      " - 7s - loss: 0.0235 - acc: 0.9926 - val_loss: 0.0624 - val_acc: 0.9813\n",
      "Epoch 7/10\n",
      " - 6s - loss: 0.0184 - acc: 0.9941 - val_loss: 0.0659 - val_acc: 0.9787\n",
      "Epoch 8/10\n",
      " - 7s - loss: 0.0138 - acc: 0.9960 - val_loss: 0.0770 - val_acc: 0.9779\n",
      "Epoch 9/10\n",
      " - 6s - loss: 0.0121 - acc: 0.9963 - val_loss: 0.0656 - val_acc: 0.9820\n",
      "Epoch 10/10\n",
      " - 6s - loss: 0.0103 - acc: 0.9971 - val_loss: 0.0665 - val_acc: 0.9838\n",
      "FInal test loss and Accuracy\n"
     ]
    }
   ],
   "source": [
    "device = '/gpu:0' if tf.test.is_gpu_available() else '/cpu:0'\n",
    "\n",
    "with tf.device(device):\n",
    "    model = MLP(hidden_dim,num_classes)\n",
    "    model.compile(optimizer=tf.train.AdamOptimizer(0.001),\n",
    "                 loss='categorical_crossentropy',metrics=['accuracy'])\n",
    "    \n",
    "    ## For letting keras know that we are using so and so input shape by\n",
    "    #sending a . dummy variable\n",
    "    \n",
    "    dummy_x=tf.zeros((1,28*28))\n",
    "    model._set_inputs(dummy_x)\n",
    "    \n",
    "    model.fit(x_train,y_train_ohe,batch_size=batch_size,epochs=epochs,\n",
    "             validation_data=(x_test,y_test_ohe),verbose=2)    "
   ]
  },
  {
   "cell_type": "code",
   "execution_count": 12,
   "metadata": {},
   "outputs": [],
   "source": [
    "scores=model.evaluate(x_test,y_test_ohe,batch_size=batch_size,verbose=2)"
   ]
  },
  {
   "cell_type": "code",
   "execution_count": 14,
   "metadata": {},
   "outputs": [
    {
     "name": "stdout",
     "output_type": "stream",
     "text": [
      "FInal test loss and Accuracy\n"
     ]
    },
    {
     "data": {
      "text/plain": [
       "[0.06649242805842659, 0.9838]"
      ]
     },
     "execution_count": 14,
     "metadata": {},
     "output_type": "execute_result"
    }
   ],
   "source": [
    "print(\"FInal test loss and Accuracy\")\n",
    "scores"
   ]
  },
  {
   "cell_type": "code",
   "execution_count": 18,
   "metadata": {},
   "outputs": [
    {
     "data": {
      "text/plain": [
       "'weights/feed_forward_mnist.ckpt'"
      ]
     },
     "execution_count": 18,
     "metadata": {},
     "output_type": "execute_result"
    }
   ],
   "source": [
    "from tensorflow.contrib.eager.python import tfe\n",
    "saver=tfe.Saver(model.variables)\n",
    "saver.save('weights/feed_forward_mnist.ckpt')"
   ]
  },
  {
   "cell_type": "code",
   "execution_count": null,
   "metadata": {},
   "outputs": [],
   "source": []
  }
 ],
 "metadata": {
  "kernelspec": {
   "display_name": "Python 3",
   "language": "python",
   "name": "python3"
  },
  "language_info": {
   "codemirror_mode": {
    "name": "ipython",
    "version": 3
   },
   "file_extension": ".py",
   "mimetype": "text/x-python",
   "name": "python",
   "nbconvert_exporter": "python",
   "pygments_lexer": "ipython3",
   "version": "3.6.3"
  }
 },
 "nbformat": 4,
 "nbformat_minor": 2
}
