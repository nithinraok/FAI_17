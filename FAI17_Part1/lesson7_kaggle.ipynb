{
  "cells": [
    {
      "metadata": {
        "trusted": true,
        "collapsed": true,
        "_uuid": "e7375d448369d6be585cc6ab3921d7ce7a81d3d7"
      },
      "cell_type": "code",
      "source": "%matplotlib inline\nlocal_path = '/kaggle/working/fisheries/'\ndata_path = '/kaggle/input/fisheries-data/data/'\n\nbatch_size=64\n",
      "execution_count": 1,
      "outputs": []
    },
    {
      "metadata": {
        "trusted": true,
        "_uuid": "0a040ee75045398485bc44a37b880326a46d034b"
      },
      "cell_type": "code",
      "source": "from glob import glob\nimport os\nimport numpy as np\nimport pandas as pd\n\nimport keras\nfrom keras.utils.data_utils import get_file\nfrom keras.utils.np_utils  import to_categorical\nfrom keras.models import Sequential\nfrom keras.layers import Conv2D,MaxPooling2D,Flatten,Dense,ZeroPadding2D,Lambda,Dropout,BatchNormalization\nfrom keras.optimizers import Adam,SGD\nfrom keras.preprocessing import image\nimport bcolz",
      "execution_count": 2,
      "outputs": [
        {
          "output_type": "stream",
          "text": "/opt/conda/lib/python3.6/site-packages/h5py/__init__.py:36: FutureWarning: Conversion of the second argument of issubdtype from `float` to `np.floating` is deprecated. In future, it will be treated as `np.float64 == np.dtype(float).type`.\n  from ._conv import register_converters as _register_converters\nUsing TensorFlow backend.\n",
          "name": "stderr"
        }
      ]
    },
    {
      "metadata": {
        "_cell_guid": "79c7e3d0-c299-4dcb-8224-4455121ee9b0",
        "collapsed": true,
        "_uuid": "d629ff2d2480ee46fbb7e2d37f6b5fab8052498a",
        "trusted": false
      },
      "cell_type": "markdown",
      "source": "## Preparing Data"
    },
    {
      "metadata": {
        "trusted": true,
        "collapsed": true,
        "_uuid": "493545c071ab17048c25bf23e8072f1aea8f310e"
      },
      "cell_type": "code",
      "source": "def load_array(fname):\n    return bcolz.open(fname)[:];",
      "execution_count": 3,
      "outputs": []
    },
    {
      "metadata": {
        "_uuid": "5010e5ad1a3d40b7aee2e29a80cce16653f6b3b0"
      },
      "cell_type": "markdown",
      "source": "## KERAS VGG BN model"
    },
    {
      "metadata": {
        "trusted": true,
        "collapsed": true,
        "_uuid": "6f1c97802478969f365df76be85b54f1e160fde0"
      },
      "cell_type": "code",
      "source": "vgg_mean = np.array([123.68, 116.779, 103.939], dtype=np.float32).reshape((3,1,1))\ndef vgg_preprocess(x):\n    x=x-vgg_mean;\n    return x[:,::-1]",
      "execution_count": 4,
      "outputs": []
    },
    {
      "metadata": {
        "trusted": true,
        "collapsed": true,
        "_uuid": "c94675e40ea65479914ad99d410ee106fc4bac2f"
      },
      "cell_type": "code",
      "source": "def ConvBlock(layers,filters):\n    for i in range(layers):\n        model.add(ZeroPadding2D((1,1),data_format='channels_first'))\n        model.add(Conv2D(filters, (3, 3), activation='relu',data_format='channels_first'))\n    model.add(MaxPooling2D((2, 2), strides=(2, 2),data_format=\"channels_first\"))",
      "execution_count": 5,
      "outputs": []
    },
    {
      "metadata": {
        "trusted": true,
        "collapsed": true,
        "_uuid": "2554700c77d5e95579dcf7df0125f59068673907"
      },
      "cell_type": "code",
      "source": "def FCBlock():\n    model.add(Dense(4096,activation='relu'))\n    model.add(BatchNormalization())\n    model.add(Dropout(0.5))",
      "execution_count": 6,
      "outputs": []
    },
    {
      "metadata": {
        "trusted": true,
        "_uuid": "95040332bbbde8612430c8d12ab962df528bdfa3"
      },
      "cell_type": "code",
      "source": "ls /kaggle/input/",
      "execution_count": 7,
      "outputs": [
        {
          "output_type": "stream",
          "text": "\u001b[0m\u001b[01;34mfisheries-data\u001b[0m/    \u001b[01;34mthe-nature-conservancy-fisheries-monitoring\u001b[0m/  \u001b[01;34mvgg16bnconv\u001b[0m/\r\n\u001b[01;34mfisheries-labels\u001b[0m/  \u001b[01;34mvgg16bn\u001b[0m/                                      \u001b[01;34mvgg16weights\u001b[0m/\r\n",
          "name": "stdout"
        }
      ]
    },
    {
      "metadata": {
        "trusted": true,
        "_uuid": "6b4ff9fd92bed7c7e796ec6a274bda0c0e8b92ad",
        "collapsed": true
      },
      "cell_type": "code",
      "source": "size=(224,224)\nmodel = Sequential();\nmodel.add(Lambda(vgg_preprocess,input_shape=(3,)+size,output_shape=(3,)+size))\n\nConvBlock(2,64)\nConvBlock(2,128)\nConvBlock(3,256)\nConvBlock(3,512)\nConvBlock(3,512)\n\nmodel.load_weights('/kaggle/input/vgg16bnconv/vgg16_bn_conv.h5')\n\nmodel.add(Flatten())\nFCBlock()\nFCBlock()\nmodel.add(Dense(1000,activation='softmax'))\n\nmodel.load_weights('/kaggle/input/vgg16bn/vgg16_bn.h5')\n\nmodel.pop()\nfor layer in model.layers: layer.trainable=False;\nmodel.add(Dense(8,activation='softmax'))\nmodel.compile(loss='categorical_crossentropy',optimizer=Adam(lr=0.001),metrics=['accuracy'])",
      "execution_count": 8,
      "outputs": []
    },
    {
      "metadata": {
        "trusted": true,
        "collapsed": true,
        "_uuid": "3071e79e309e82527af94b8cee3235fb3ba6388c"
      },
      "cell_type": "code",
      "source": "model.summary()",
      "execution_count": 9,
      "outputs": [
        {
          "output_type": "stream",
          "text": "_________________________________________________________________\nLayer (type)                 Output Shape              Param #   \n=================================================================\nlambda_1 (Lambda)            (None, 3, 224, 224)       0         \n_________________________________________________________________\nzero_padding2d_1 (ZeroPaddin (None, 3, 226, 226)       0         \n_________________________________________________________________\nconv2d_1 (Conv2D)            (None, 64, 224, 224)      1792      \n_________________________________________________________________\nzero_padding2d_2 (ZeroPaddin (None, 64, 226, 226)      0         \n_________________________________________________________________\nconv2d_2 (Conv2D)            (None, 64, 224, 224)      36928     \n_________________________________________________________________\nmax_pooling2d_1 (MaxPooling2 (None, 64, 112, 112)      0         \n_________________________________________________________________\nzero_padding2d_3 (ZeroPaddin (None, 64, 114, 114)      0         \n_________________________________________________________________\nconv2d_3 (Conv2D)            (None, 128, 112, 112)     73856     \n_________________________________________________________________\nzero_padding2d_4 (ZeroPaddin (None, 128, 114, 114)     0         \n_________________________________________________________________\nconv2d_4 (Conv2D)            (None, 128, 112, 112)     147584    \n_________________________________________________________________\nmax_pooling2d_2 (MaxPooling2 (None, 128, 56, 56)       0         \n_________________________________________________________________\nzero_padding2d_5 (ZeroPaddin (None, 128, 58, 58)       0         \n_________________________________________________________________\nconv2d_5 (Conv2D)            (None, 256, 56, 56)       295168    \n_________________________________________________________________\nzero_padding2d_6 (ZeroPaddin (None, 256, 58, 58)       0         \n_________________________________________________________________\nconv2d_6 (Conv2D)            (None, 256, 56, 56)       590080    \n_________________________________________________________________\nzero_padding2d_7 (ZeroPaddin (None, 256, 58, 58)       0         \n_________________________________________________________________\nconv2d_7 (Conv2D)            (None, 256, 56, 56)       590080    \n_________________________________________________________________\nmax_pooling2d_3 (MaxPooling2 (None, 256, 28, 28)       0         \n_________________________________________________________________\nzero_padding2d_8 (ZeroPaddin (None, 256, 30, 30)       0         \n_________________________________________________________________\nconv2d_8 (Conv2D)            (None, 512, 28, 28)       1180160   \n_________________________________________________________________\nzero_padding2d_9 (ZeroPaddin (None, 512, 30, 30)       0         \n_________________________________________________________________\nconv2d_9 (Conv2D)            (None, 512, 28, 28)       2359808   \n_________________________________________________________________\nzero_padding2d_10 (ZeroPaddi (None, 512, 30, 30)       0         \n_________________________________________________________________\nconv2d_10 (Conv2D)           (None, 512, 28, 28)       2359808   \n_________________________________________________________________\nmax_pooling2d_4 (MaxPooling2 (None, 512, 14, 14)       0         \n_________________________________________________________________\nzero_padding2d_11 (ZeroPaddi (None, 512, 16, 16)       0         \n_________________________________________________________________\nconv2d_11 (Conv2D)           (None, 512, 14, 14)       2359808   \n_________________________________________________________________\nzero_padding2d_12 (ZeroPaddi (None, 512, 16, 16)       0         \n_________________________________________________________________\nconv2d_12 (Conv2D)           (None, 512, 14, 14)       2359808   \n_________________________________________________________________\nzero_padding2d_13 (ZeroPaddi (None, 512, 16, 16)       0         \n_________________________________________________________________\nconv2d_13 (Conv2D)           (None, 512, 14, 14)       2359808   \n_________________________________________________________________\nmax_pooling2d_5 (MaxPooling2 (None, 512, 7, 7)         0         \n_________________________________________________________________\nflatten_1 (Flatten)          (None, 25088)             0         \n_________________________________________________________________\ndense_1 (Dense)              (None, 4096)              102764544 \n_________________________________________________________________\nbatch_normalization_1 (Batch (None, 4096)              16384     \n_________________________________________________________________\ndropout_1 (Dropout)          (None, 4096)              0         \n_________________________________________________________________\ndense_2 (Dense)              (None, 4096)              16781312  \n_________________________________________________________________\nbatch_normalization_2 (Batch (None, 4096)              16384     \n_________________________________________________________________\ndropout_2 (Dropout)          (None, 4096)              0         \n_________________________________________________________________\ndense_4 (Dense)              (None, 8)                 32776     \n=================================================================\nTotal params: 134,326,088\nTrainable params: 32,776\nNon-trainable params: 134,293,312\n_________________________________________________________________\n",
          "name": "stdout"
        }
      ]
    },
    {
      "metadata": {
        "trusted": true,
        "_uuid": "e27a936b3c14e7361c547b11a98a7ebee371b7ba",
        "collapsed": true
      },
      "cell_type": "code",
      "source": "gen=image.ImageDataGenerator();",
      "execution_count": 13,
      "outputs": []
    },
    {
      "metadata": {
        "trusted": true,
        "_uuid": "3c0c70367f561c2e2e9e6dd185ec5f3e630dc7b3",
        "collapsed": true
      },
      "cell_type": "code",
      "source": "trn=load_array(data_path+'trn.dat');\nval=load_array(data_path+'val.dat');\ntest=load_array(data_path+'test.dat');\n",
      "execution_count": 11,
      "outputs": []
    },
    {
      "metadata": {
        "trusted": true,
        "collapsed": true,
        "_uuid": "b1d9e4bf85b8f3371e73ec6acf648093a5ec0ef1"
      },
      "cell_type": "code",
      "source": "trn_labels = load_array(data_path+'trn_labels.dat');\nval_labels = load_array(data_path+'val_labels.dat')",
      "execution_count": 14,
      "outputs": []
    },
    {
      "metadata": {
        "trusted": true,
        "_uuid": "fd40fed31587dc603b4fe82ce8512548be03bfe5",
        "scrolled": true
      },
      "cell_type": "code",
      "source": "trn.shape,val.shape,test.shape",
      "execution_count": 12,
      "outputs": [
        {
          "output_type": "execute_result",
          "execution_count": 12,
          "data": {
            "text/plain": "((3277, 3, 224, 224), (500, 3, 224, 224), (1000, 3, 224, 224))"
          },
          "metadata": {}
        }
      ]
    },
    {
      "metadata": {
        "trusted": true,
        "_uuid": "5f887e5ecc89ff6d26bc91208126f78c09ad4108"
      },
      "cell_type": "code",
      "source": "model.fit(trn,trn_labels,epochs=3,batch_size=batch_size,validation_data=(val,val_labels))",
      "execution_count": 15,
      "outputs": [
        {
          "output_type": "stream",
          "text": "Train on 3277 samples, validate on 500 samples\nEpoch 1/3\n3277/3277 [==============================] - 52s 16ms/step - loss: 2.9535 - acc: 0.4782 - val_loss: 1.9367 - val_acc: 0.5880\nEpoch 2/3\n3277/3277 [==============================] - 39s 12ms/step - loss: 1.6050 - acc: 0.6500 - val_loss: 1.8304 - val_acc: 0.6180\nEpoch 3/3\n3277/3277 [==============================] - 39s 12ms/step - loss: 1.3207 - acc: 0.7080 - val_loss: 1.7455 - val_acc: 0.6400\n",
          "name": "stdout"
        },
        {
          "output_type": "execute_result",
          "execution_count": 15,
          "data": {
            "text/plain": "<keras.callbacks.History at 0x7f79a0f32908>"
          },
          "metadata": {}
        }
      ]
    },
    {
      "metadata": {
        "trusted": true,
        "collapsed": true,
        "_uuid": "9dee064d5455c1dfcb0c015c04f803c2cdfb5fab"
      },
      "cell_type": "code",
      "source": "",
      "execution_count": null,
      "outputs": []
    }
  ],
  "metadata": {
    "kernelspec": {
      "display_name": "Python 3",
      "language": "python",
      "name": "python3"
    },
    "language_info": {
      "name": "python",
      "version": "3.6.4",
      "mimetype": "text/x-python",
      "codemirror_mode": {
        "name": "ipython",
        "version": 3
      },
      "pygments_lexer": "ipython3",
      "nbconvert_exporter": "python",
      "file_extension": ".py"
    }
  },
  "nbformat": 4,
  "nbformat_minor": 1
}